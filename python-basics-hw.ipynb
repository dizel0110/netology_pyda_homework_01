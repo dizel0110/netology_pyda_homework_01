{
 "cells": [
  {
   "cell_type": "markdown",
   "metadata": {},
   "source": [
    "**Задание 1**. Даны 2 строки: *long_phrase* и *short_phrase*. \n",
    "Напишите код, который проверяет действительно ли длинная фраза *long_phrase* длиннее короткой *short_phrase*. И выводит *True* или *False* в зависимости от результата сравнения."
   ]
  },
  {
   "cell_type": "code",
   "execution_count": 1,
   "metadata": {},
   "outputs": [],
   "source": [
    "long_phrase = 'Насколько проще было бы писать программы, если бы не заказчики'\n",
    "short_phrase = '640Кб должно хватить для любых задач. Билл Гейтс (по легенде)'"
   ]
  },
  {
   "cell_type": "code",
   "execution_count": 37,
   "metadata": {},
   "outputs": [
    {
     "name": "stdout",
     "output_type": "stream",
     "text": [
      "True\n"
     ]
    }
   ],
   "source": [
    "if long_phrase > short_phrase:\n",
    "    print (2 + 2 == 4)\n",
    "else:\n",
    "    print ('False')"
   ]
  },
  {
   "cell_type": "markdown",
   "metadata": {},
   "source": [
    "**Задание 2**. Дано значение объема файла в байтах. Напишите перевод этого значения в мегабайты в формате: \"*Объем файла равен 213.68Mb*\""
   ]
  },
  {
   "cell_type": "code",
   "execution_count": 11,
   "metadata": {},
   "outputs": [
    {
     "name": "stdout",
     "output_type": "stream",
     "text": [
      "Введите объём файла в байтах:213680000\n",
      "Объём файла равен 213.68 Mb\n"
     ]
    }
   ],
   "source": [
    "filesize_byte = int(input ('Введите объём файла в байтах:')) # мебибайт != мегабайт (узнал впервые в чём различие на деле)\n",
    "# filesize_byte = 213680000 (или ввести с клавиатуры)\n",
    "byte_2_MByte = 1000 * 1000\n",
    "byte_2_MiByte = 1024 * 1024\n",
    "filesize_Mbyte = filesize_byte / byte_2_MByte\n",
    "print ('Объём файла равен',  filesize_Mbyte, 'Mb')"
   ]
  },
  {
   "cell_type": "markdown",
   "metadata": {},
   "source": [
    "**Задание 3**. Разработать приложение для определения знака зодиака по дате рождения. Пример:\n",
    "\n",
    "Введите месяц: март\n",
    "\n",
    "Введите число: 6\n",
    "\n",
    "Вывод:\n",
    "Рыбы"
   ]
  },
  {
   "cell_type": "code",
   "execution_count": 32,
   "metadata": {},
   "outputs": [
    {
     "name": "stdout",
     "output_type": "stream",
     "text": [
      "Введите месяц (все прописные):август\n",
      "Введите число:8\n",
      "Вывод: Лев\n"
     ]
    }
   ],
   "source": [
    "# Программа определят знак зодиака по дате рождения. Сверяйте даты и месяцы по календарю.\n",
    "month = input('Введите месяц (все прописные):')\n",
    "day = int(input('Введите число:'))\n",
    "zodiac_sign = ['Овен', 'Телец','Близнецы','Рак','Лев','Дева','Весы','Скорпион','Стрелец','Козерог','Водолей','Рыбы' ]\n",
    "if ((month == 'март') and (day >= 21)) or ((month == 'апрель') and (day <= 20)):\n",
    "    print ('Вывод:', zodiac_sign[0]) # Овен\n",
    "elif ((month == 'апрель') and (day >= 21)) or ((month == 'май') and (day <= 20)):\n",
    "    print ('Вывод:', zodiac_sign[1]) # Телец\n",
    "elif ((month == 'май') and (day >= 21)) or ((month == 'июнь') and (day <= 20)):\n",
    "    print ('Вывод:', zodiac_sign[2]) # Близнецы\n",
    "elif ((month == 'июнь') and (day >= 21)) or ((month == 'июль') and (day <= 22)):\n",
    "    print ('Вывод:', zodiac_sign[3]) # Рак\n",
    "elif ((month == 'июль') and (day >= 23)) or ((month == 'август') and (day <= 22)):\n",
    "    print ('Вывод:', zodiac_sign[4]) # Лев\n",
    "elif ((month == 'август') and (day >= 23)) or ((month == 'сентябрь') and (day <= 23)):\n",
    "    print ('Вывод:', zodiac_sign[5]) # Дева\n",
    "elif ((month == 'сентябрь') and (day >= 24)) or ((month == 'октябрь') and (day <= 23)):\n",
    "    print ('Вывод:', zodiac_sign[6]) # Весы\n",
    "elif ((month == 'октябрь') and (day >= 24)) or ((month == 'ноябрь') and (day <= 21)):\n",
    "    print ('Вывод:', zodiac_sign[7]) # Скорпион\n",
    "elif ((month == 'ноябрь') and (day >= 22)) or ((month == 'декабрь') and (day <= 21)):\n",
    "    print ('Вывод:', zodiac_sign[8]) # Стрелец\n",
    "elif ((month == 'декабрь') and (day >= 22)) or ((month == 'январь') and (day <= 19)):\n",
    "    print ('Вывод:', zodiac_sign[9]) # Козерог\n",
    "elif ((month == 'январь') and (day >= 22)) or ((month == 'февраль') and (day <= 18)):\n",
    "    print ('Вывод:', zodiac_sign[10]) # Водолей\n",
    "else: \n",
    "    print ('Вывод:', zodiac_sign[11]) # Рыбы (Повезло, так повезло. Не проверяем на 31 июня и другую фантастику.)"
   ]
  },
  {
   "cell_type": "markdown",
   "metadata": {},
   "source": [
    "**Задание 4**. Нужно разработать приложение для финансового планирования.\n",
    "Приложение учитывает сколько уходит на ипотеку, \"на жизнь\" и сколько нужно отложить на пенсию.\n",
    "Пользователь вводит:\n",
    "- заработанную плату в месяц.\n",
    "- сколько процентов от ЗП уходит на ипотеку.\n",
    "- сколько процентов от ЗП уходит \"на жизнь\".\n",
    "- сколько раз приходит премия в год.\n",
    "\n",
    "Остальная часть заработанной платы откладывается на пенсию.\n",
    "\n",
    "Также пользователю приходит премия в размере зарплаты, от которой половина уходит на отпуск, а вторая половина откладывается.\n",
    "\n",
    "Программа должна учитывать сколько премий было в год.\n",
    "\n",
    "Нужно вывести сколько денег тратит пользователь на ипотеку и сколько он накопит за год.\n",
    "\n",
    "Пример:\n",
    "\n",
    "Введите заработанную плату в месяц: 100000\n",
    "\n",
    "Введите сколько процентов уходит на ипотеку: 30\n",
    "\n",
    "Введите сколько процентов уходит на жизнь: 50\n",
    "\n",
    "Введите количество премий за год: 2\n",
    "\n",
    "Вывод:\n",
    "На ипотеку было потрачено: 360000 рублей\n",
    "Было накоплено: 340000 рублей"
   ]
  },
  {
   "cell_type": "code",
   "execution_count": 52,
   "metadata": {},
   "outputs": [
    {
     "name": "stdout",
     "output_type": "stream",
     "text": [
      "Введите заработную плату в месяц:100000\n",
      "Введите сколько процентов уходит на ипотеку:30\n",
      "Введите сколько процентов уходит на жизнь:50\n",
      "Введите количество премий за год:2\n",
      "На ипотеку было потрачено: 359999.99999999994 рублей\n",
      "Было накоплено: 340000.0 рублей\n"
     ]
    }
   ],
   "source": [
    "# Финансовое планирование\n",
    "wage_month = int(input('Введите заработную плату в месяц:'))\n",
    "mortgage_perсent =  int(input('Введите сколько процентов уходит на ипотеку:'))\n",
    "life_percent = int(input('Введите сколько процентов уходит на жизнь:'))\n",
    "cashbonuses_peryear = int(input('Введите количество премий за год:'))\n",
    "\n",
    "monthes = 12 # количество месяцев в году\n",
    "\n",
    "# mortgage_share = mortgage_perсent / 100\n",
    "mortgage = monthes * (mortgage_perсent / 100) * wage_month # уходит на ипотеку за год (исключительно с ЗП)\n",
    "\n",
    "life_share = life_percent / 100\n",
    "life = life_share *  wage_month # уходит \"на жизнь\" за год (исключительно с ЗП)\n",
    "\n",
    "cash_prize = wage_month # премия равна зарплате\n",
    "\n",
    "cashprize_year = cashbonuses_peryear * cash_prize # ИТОГО премий за год\n",
    "vacation = cashprize_year/2 # уходит на отпуск за год\n",
    "\n",
    "\n",
    "# pension_share = (100 - mortgage_perсent - life_percent)/100 # сколько процентов (доля!) от ЗП откладывается на пенсию\n",
    "# pension_share = 1 - mortgage_share - life_share\n",
    "\n",
    "accumulated_money1 = monthes * wage_month * (100 - mortgage_perсent - life_percent)/100 # откладывается на пенсию в год \n",
    "accumulated_money2 = cashprize_year - vacation # окладывается от премии за вычетом отпуска\n",
    "accumulated_money = accumulated_money1 + accumulated_money2 # суммарно накапливается за год\n",
    "\n",
    "\n",
    "print ('На ипотеку было потрачено:', mortgage, 'рублей')\n",
    "print ('Было накоплено:',  accumulated_money, 'рублей')\n",
    "\n"
   ]
  },
  {
   "cell_type": "code",
   "execution_count": null,
   "metadata": {},
   "outputs": [],
   "source": []
  }
 ],
 "metadata": {
  "kernelspec": {
   "display_name": "Python 3",
   "language": "python",
   "name": "python3"
  },
  "language_info": {
   "codemirror_mode": {
    "name": "ipython",
    "version": 3
   },
   "file_extension": ".py",
   "mimetype": "text/x-python",
   "name": "python",
   "nbconvert_exporter": "python",
   "pygments_lexer": "ipython3",
   "version": "3.7.4"
  }
 },
 "nbformat": 4,
 "nbformat_minor": 2
}
